{
 "cells": [
  {
   "cell_type": "heading",
   "metadata": {},
   "level": 1,
   "source": [
    "Imports:\n",
    "Importing all necessary libraries"
   ]
  },
  {
   "cell_type": "code",
   "execution_count": null,
   "metadata": {
    "collapsed": true
   },
   "outputs": [],
   "source": [
    "import numpy as np\n",
    "import matplotlib.pyplot as pl\n",
    "import csv\n"
   ]
  },
  {
   "cell_type": "markdown",
   "metadata": {},
   "source": [
    "Re"
   ]
  },
  {
   "cell_type": "code",
   "execution_count": null,
   "metadata": {},
   "outputs": [],
   "source": [
    "pl.rcParams['figure.figsize'] = (16.0, 8.0)\n",
    "\n",
    "x=[]#sepal length\n",
    "y=[]#sepal width \n",
    "petalLength=[]\n",
    "petalWidth=[]\n",
    "species=[]\n",
    "\n",
    "\n",
    "with open(\"IRIS.csv\",\"r\") as dat:\n",
    "    csvF = csv.reader(dat)\n",
    "    for line in dat:\n",
    "        a=line[0].split(';')\n",
    "        x.append(float(a[1]))\n",
    "        y.append(float(a[2]))\n",
    "        \n",
    "\n",
    "\n",
    "pl.plot(x,y,'k.')\n",
    "pl.xlabel(\"sepal length\")\n",
    "pl.ylabel(\"sepal width\")\n",
    "pl.legend(loc='best')\n",
    "pl.show()\n",
    "\n"
   ]
  },
  {
   "cell_type": "heading",
   "metadata": {},
   "level": 2,
   "source": [
    "4. Create a more complex plot"
   ]
  },
  {
   "cell_type": "markdown",
   "metadata": {},
   "source": [
    "Re-create the above plot, but this time plot the setosa data points in red, the versicolor data point in green, and the virginica data points in blue. Setosa, versicolor, and virginica are the three possible values of the species variable. Add a legend to the plot showing which species is in which colour."
   ]
  },
  {
   "cell_type": "code",
   "execution_count": null,
   "metadata": {},
   "outputs": [],
   "source": [
    "colors=[]\n",
    "for i in species:\n",
    "    if(i==\"setosa\"):\n",
    "        colors.append('r')\n",
    "    elif(i==\"versicolor\"):\n",
    "        colors.append('g')\n",
    "    else:\n",
    "        colors.append('b')\n",
    "\n",
    "pl.scatter(x, y, color=colors)\n",
    "pl.show()\n"
   ]
  }
 ],
 "metadata": {
  "kernelspec": {
   "display_name": "Python 2",
   "language": "python",
   "name": "python2"
  },
  "language_info": {
   "codemirror_mode": {
    "name": "ipython",
    "version": 2
   },
   "file_extension": ".py",
   "mimetype": "text/x-python",
   "name": "python",
   "nbconvert_exporter": "python",
   "pygments_lexer": "ipython2",
   "version": "2.7.6"
  }
 },
 "nbformat": 4,
 "nbformat_minor": 0
}
